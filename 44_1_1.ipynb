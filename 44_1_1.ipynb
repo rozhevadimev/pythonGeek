{
  "nbformat": 4,
  "nbformat_minor": 0,
  "metadata": {
    "colab": {
      "provenance": [],
      "authorship_tag": "ABX9TyOOL7glMtIVDoNW+fSm3+Gm",
      "include_colab_link": true
    },
    "kernelspec": {
      "name": "python3",
      "display_name": "Python 3"
    },
    "language_info": {
      "name": "python"
    }
  },
  "cells": [
    {
      "cell_type": "markdown",
      "metadata": {
        "id": "view-in-github",
        "colab_type": "text"
      },
      "source": [
        "<a href=\"https://colab.research.google.com/github/rozhevadimev/pythonGeek/blob/seventh/44_1_1.ipynb\" target=\"_parent\"><img src=\"https://colab.research.google.com/assets/colab-badge.svg\" alt=\"Open In Colab\"/></a>"
      ]
    },
    {
      "cell_type": "code",
      "execution_count": null,
      "metadata": {
        "colab": {
          "base_uri": "https://localhost:8080/"
        },
        "id": "sytMyIfk6Qyz",
        "outputId": "84e076f8-84fa-4683-abf3-c7f7d7e01b62"
      },
      "outputs": [
        {
          "output_type": "stream",
          "name": "stdout",
          "text": [
            "   whoAmI\n",
            "0   human\n",
            "1   robot\n",
            "2   robot\n",
            "3   robot\n",
            "4   human\n",
            "5   human\n",
            "6   human\n",
            "7   human\n",
            "8   robot\n",
            "9   robot\n",
            "10  human\n",
            "11  robot\n",
            "12  robot\n",
            "13  robot\n",
            "14  robot\n",
            "15  robot\n",
            "16  human\n",
            "17  human\n",
            "18  human\n",
            "19  human\n",
            "  whoAmI  human  robot\n",
            "0  robot      0      1\n",
            "1  human      1      0\n",
            "2  human      1      0\n",
            "3  human      1      0\n",
            "4  robot      0      1\n"
          ]
        }
      ],
      "source": [
        "#В ячейке ниже представлен код генерирующий DataFrame, которая состоит всего из 1 столбца. \n",
        "#Ваша задача перевести его в one hot вид. Сможете ли вы это сделать без get_dummies?\n",
        "#import random\n",
        "#lst = ['robot'] * 10\n",
        "#lst += ['human'] * 10\n",
        "#random.shuffle(lst)\n",
        "##data = pd.DataFrame({'whoAmI'lst})\n",
        "#data.head() |\n",
        "# C использованием get_dummies\n",
        "import pandas as pd \n",
        "import numpy as np \n",
        "import random\n",
        " \n",
        "lst = ['robot'] * 10\n",
        "lst += ['human'] * 10\n",
        "random.shuffle(lst)\n",
        "data = pd.DataFrame({'whoAmI': lst})\n",
        "print(data)\n",
        "from sklearn.preprocessing import OneHotEncoder\n",
        "import pandas as pd\n",
        "import random\n",
        "\n",
        "lst = ['robot'] * 10\n",
        "lst += ['human'] * 10\n",
        "random.shuffle(lst)\n",
        "data = pd.DataFrame({'whoAmI': lst})\n",
        "\n",
        "one_hot = pd.get_dummies(data['whoAmI'], sparse=False)\n",
        "\n",
        "data = pd.concat([data, one_hot], axis=1)\n",
        "print(data.head())\n"
      ]
    }
  ]
}