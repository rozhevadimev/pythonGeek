{
  "nbformat": 4,
  "nbformat_minor": 0,
  "metadata": {
    "colab": {
      "provenance": [],
      "authorship_tag": "ABX9TyM+8M2qMIqDo7FycM/bXcLr",
      "include_colab_link": true
    },
    "kernelspec": {
      "name": "python3",
      "display_name": "Python 3"
    },
    "language_info": {
      "name": "python"
    }
  },
  "cells": [
    {
      "cell_type": "markdown",
      "metadata": {
        "id": "view-in-github",
        "colab_type": "text"
      },
      "source": [
        "<a href=\"https://colab.research.google.com/github/rozhevadimev/pythonGeek/blob/seventh/44.ipynb\" target=\"_parent\"><img src=\"https://colab.research.google.com/assets/colab-badge.svg\" alt=\"Open In Colab\"/></a>"
      ]
    },
    {
      "cell_type": "code",
      "execution_count": 31,
      "metadata": {
        "colab": {
          "base_uri": "https://localhost:8080/"
        },
        "id": "bpOersI2SczA",
        "outputId": "7d81dbd0-28ad-4781-b409-bf9d453934ac"
      },
      "outputs": [
        {
          "output_type": "stream",
          "name": "stdout",
          "text": [
            "   whoAmI\n",
            "0   robot\n",
            "1   robot\n",
            "2   robot\n",
            "3   human\n",
            "4   robot\n",
            "5   human\n",
            "6   human\n",
            "7   robot\n",
            "8   human\n",
            "9   robot\n",
            "10  robot\n",
            "11  human\n",
            "12  robot\n",
            "13  human\n",
            "14  robot\n",
            "15  robot\n",
            "16  human\n",
            "17  human\n",
            "18  human\n",
            "19  human\n",
            "   whoAmI_human  whoAmI_robot\n",
            "0           1.0           0.0\n",
            "1           1.0           0.0\n",
            "2           1.0           0.0\n",
            "3           0.0           1.0\n",
            "4           0.0           1.0\n"
          ]
        }
      ],
      "source": [
        "#В ячейке ниже представлен код генерирующий DataFrame, которая состоит всего из 1 столбца. \n",
        "#Ваша задача перевести его в one hot вид. Сможете ли вы это сделать без get_dummies?\n",
        "#import random\n",
        "#lst = ['robot'] * 10\n",
        "#lst += ['human'] * 10\n",
        "#random.shuffle(lst)\n",
        "##data = pd.DataFrame({'whoAmI'lst})\n",
        "#data.head() |\n",
        "lst = ['robot'] * 10\n",
        "lst += ['human'] * 10\n",
        "random.shuffle(lst)\n",
        "data = pd.DataFrame({'whoAmI': lst})\n",
        "print(data)\n",
        "from sklearn.preprocessing import OneHotEncoder\n",
        "import pandas as pd\n",
        "import random\n",
        "lst = ['robot'] * 10\n",
        "lst += ['human'] * 10\n",
        "random.shuffle(lst)\n",
        "data = pd.DataFrame({'whoAmI': lst})\n",
        "\n",
        "data['tmp'] = 1\n",
        "data.set_index([data.index, 'whoAmI'], inplace=True)\n",
        "data = data.unstack(level=-1, fill_value = 0).astype(int)\n",
        "data.columns = data.columns.droplevel()\n",
        "data.columns.name = None\n",
        "\n",
        "one_hot_df = pd.DataFrame(one_hot.toarray(), columns=cols)\n",
        "print(one_hot_df.head())"
      ]
    }
  ]
}