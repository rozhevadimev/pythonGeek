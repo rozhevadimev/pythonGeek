{
  "nbformat": 4,
  "nbformat_minor": 0,
  "metadata": {
    "colab": {
      "provenance": [],
      "authorship_tag": "ABX9TyPzn5qPfBur2alFbpDVYjBM",
      "include_colab_link": true
    },
    "kernelspec": {
      "name": "python3",
      "display_name": "Python 3"
    },
    "language_info": {
      "name": "python"
    }
  },
  "cells": [
    {
      "cell_type": "markdown",
      "metadata": {
        "id": "view-in-github",
        "colab_type": "text"
      },
      "source": [
        "<a href=\"https://colab.research.google.com/github/rozhevadimev/pythonGeek/blob/seventh/44_1_2.ipynb\" target=\"_parent\"><img src=\"https://colab.research.google.com/assets/colab-badge.svg\" alt=\"Open In Colab\"/></a>"
      ]
    },
    {
      "cell_type": "code",
      "execution_count": null,
      "metadata": {
        "colab": {
          "base_uri": "https://localhost:8080/"
        },
        "id": "Ajtta0Iq2jTc",
        "outputId": "3664a092-8570-4eea-ccea-5b353364ca01"
      },
      "outputs": [
        {
          "output_type": "stream",
          "name": "stdout",
          "text": [
            "   whoAmI\n",
            "0   robot\n",
            "1   human\n",
            "2   robot\n",
            "3   human\n",
            "4   robot\n",
            "5   robot\n",
            "6   human\n",
            "7   robot\n",
            "8   human\n",
            "9   human\n",
            "10  robot\n",
            "11  robot\n",
            "12  human\n",
            "13  robot\n",
            "14  human\n",
            "15  human\n",
            "16  human\n",
            "17  robot\n",
            "18  robot\n",
            "19  human\n",
            "   whoAmI_human  whoAmI_robot\n",
            "0           1.0           0.0\n",
            "1           0.0           1.0\n",
            "2           1.0           0.0\n",
            "3           1.0           0.0\n",
            "4           1.0           0.0\n"
          ]
        }
      ],
      "source": [
        "#В ячейке ниже представлен код генерирующий DataFrame, которая состоит всего из 1 столбца. \n",
        "#Ваша задача перевести его в one hot вид. Сможете ли вы это сделать без get_dummies?\n",
        "#import random\n",
        "#lst = ['robot'] * 10\n",
        "#lst += ['human'] * 10\n",
        "#random.shuffle(lst)\n",
        "##data = pd.DataFrame({'whoAmI'lst})\n",
        "#data.head() |\n",
        "# Без использования get_dummies\n",
        "\n",
        "import pandas as pd \n",
        "import numpy as np \n",
        "import random\n",
        " \n",
        "lst = ['robot'] * 10\n",
        "lst += ['human'] * 10\n",
        "random.shuffle(lst)\n",
        "data = pd.DataFrame({'whoAmI': lst})\n",
        "print(data)\n",
        "from sklearn.preprocessing import OneHotEncoder\n",
        "import pandas as pd\n",
        "import random\n",
        "lst = ['robot'] * 10\n",
        "lst += ['human'] * 10\n",
        "random.shuffle(lst)\n",
        "data = pd.DataFrame({'whoAmI': lst})\n",
        "\n",
        "enc = OneHotEncoder()\n",
        "enc.fit(data[['whoAmI']])\n",
        "\n",
        "one_hot = enc.transform(data[['whoAmI']])\n",
        "cols = enc.get_feature_names_out(['whoAmI'])\n",
        "\n",
        "one_hot_df = pd.DataFrame(one_hot.toarray(), columns=cols)\n",
        "print(one_hot_df.head())"
      ]
    }
  ]
}